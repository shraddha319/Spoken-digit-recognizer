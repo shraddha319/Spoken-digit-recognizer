{
 "cells": [
  {
   "cell_type": "markdown",
   "metadata": {},
   "source": [
    "### Import required libraries"
   ]
  },
  {
   "cell_type": "code",
   "execution_count": 10,
   "metadata": {},
   "outputs": [],
   "source": [
    "import os\n",
    "import numpy as np\n",
    "import matplotlib.pyplot as plt\n",
    "import random\n",
    "import cv2\n",
    "import re\n",
    "from keras.utils import to_categorical\n",
    "from sklearn.linear_model import LogisticRegression\n",
    "from sklearn import metrics\n"
   ]
  },
  {
   "cell_type": "markdown",
   "metadata": {},
   "source": [
    "### Splitting the images into train and test data"
   ]
  },
  {
   "cell_type": "code",
   "execution_count": 11,
   "metadata": {},
   "outputs": [],
   "source": [
    "\n",
    "data_dir = '/home/shraddha/digit-speech/spectrogram'\n",
    "all_img = os.listdir(data_dir)\n",
    "random.shuffle(all_img)\n",
    "train_img = [data_dir+'/'+img for img in all_img[:1600]]\n",
    "test_img = [data_dir+'/'+img for img in all_img[1600:]]\n",
    "\n"
   ]
  },
  {
   "cell_type": "markdown",
   "metadata": {},
   "source": [
    "### converting the images into array of integers of dimention (nx4096) where n is no. of images of 64x64 resolution and generating labels for each audio image based on filename"
   ]
  },
  {
   "cell_type": "code",
   "execution_count": 12,
   "metadata": {},
   "outputs": [],
   "source": [
    "\n",
    "nrows = 64\n",
    "ncols = 64\n",
    "RE = r'(.*)([0-9]_.*)'\n",
    "reobj = re.compile(RE)\n",
    "def label_data(list_of_img):\n",
    "    X = []\n",
    "    y = []\n",
    "    for image in list_of_img:\n",
    "        X.append(cv2.resize(cv2.imread(image, cv2.IMREAD_GRAYSCALE),(nrows,ncols),interpolation=cv2.INTER_CUBIC))\n",
    "        y.append(int(reobj.search(image).groups()[1][0]))\n",
    "    return np.array(X), y\n",
    "\n",
    "X_train, y_train = label_data(train_img)\n",
    "X_test, y_actual = label_data(test_img)\n",
    "\n",
    "X_train=np.reshape(X_train,(1600,64*64))\n",
    "X_test=np.reshape(X_test,(400,64*64))\n"
   ]
  },
  {
   "cell_type": "code",
   "execution_count": 21,
   "metadata": {},
   "outputs": [
    {
     "name": "stderr",
     "output_type": "stream",
     "text": [
      "/home/shraddha/anaconda3/lib/python3.6/site-packages/sklearn/linear_model/logistic.py:433: FutureWarning: Default solver will be changed to 'lbfgs' in 0.22. Specify a solver to silence this warning.\n",
      "  FutureWarning)\n",
      "/home/shraddha/anaconda3/lib/python3.6/site-packages/sklearn/linear_model/logistic.py:460: FutureWarning: Default multi_class will be changed to 'auto' in 0.22. Specify the multi_class option to silence this warning.\n",
      "  \"this warning.\", FutureWarning)\n"
     ]
    },
    {
     "name": "stdout",
     "output_type": "stream",
     "text": [
      "Test-Score: 0.885\n"
     ]
    }
   ],
   "source": [
    "logisticRegr = LogisticRegression()\n",
    "\n",
    "model=logisticRegr.fit(X_train, y_train)\n",
    "y_pred = logisticRegr.predict(X_test)\n",
    "\n",
    "print(\"Test-Score:\",logisticRegr.score(X_test,y_actual))"
   ]
  },
  {
   "cell_type": "code",
   "execution_count": null,
   "metadata": {},
   "outputs": [],
   "source": []
  }
 ],
 "metadata": {
  "kernelspec": {
   "display_name": "Python 3",
   "language": "python",
   "name": "python3"
  },
  "language_info": {
   "codemirror_mode": {
    "name": "ipython",
    "version": 3
   },
   "file_extension": ".py",
   "mimetype": "text/x-python",
   "name": "python",
   "nbconvert_exporter": "python",
   "pygments_lexer": "ipython3",
   "version": "3.6.8"
  }
 },
 "nbformat": 4,
 "nbformat_minor": 2
}
