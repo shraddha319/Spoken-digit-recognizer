{
 "cells": [
  {
   "cell_type": "markdown",
   "metadata": {},
   "source": [
    "### Import the required libraries"
   ]
  },
  {
   "cell_type": "code",
   "execution_count": 1,
   "metadata": {},
   "outputs": [
    {
     "name": "stderr",
     "output_type": "stream",
     "text": [
      "Using TensorFlow backend.\n"
     ]
    }
   ],
   "source": [
    "\n",
    "import os\n",
    "import numpy as np\n",
    "import matplotlib.pyplot as plt\n",
    "%matplotlib inline\n",
    "import random\n",
    "import cv2\n",
    "import re\n",
    "from keras.utils import to_categorical\n",
    "from sklearn.neighbors import KNeighborsClassifier\n",
    "from sklearn import metrics\n"
   ]
  },
  {
   "cell_type": "markdown",
   "metadata": {},
   "source": [
    "### Load the dataset"
   ]
  },
  {
   "cell_type": "code",
   "execution_count": 2,
   "metadata": {},
   "outputs": [],
   "source": [
    "data_dir = '/home/shraddha/digit-speech/spectrogram' #path to the spectrogram directory\n",
    "\n",
    "all_img = os.listdir(data_dir)\n",
    "random.shuffle(all_img)\n",
    "\n",
    "train_img = [data_dir+'/'+img for img in all_img[:1600]]\n",
    "test_img = [data_dir+'/'+img for img in all_img[1600:]]\n",
    "\n",
    "nrows = 64\n",
    "ncols = 64\n",
    "RE = r'(.*)([0-9]_.*)'\n",
    "reobj = re.compile(RE)\n",
    "\n",
    "def label_data(list_of_img):\n",
    "    \"\"\"\n",
    "    Resizing the image into standard dimensions.\n",
    "    Returns the image pixels as a numpy array(4D) and carresponding labels as categories.\n",
    "    OneHotEncoder is used to generate categorical labels.\n",
    "    \"\"\"\n",
    "    X = []\n",
    "    y = []\n",
    "    for image in list_of_img:\n",
    "        X.append(cv2.resize(cv2.imread(image, cv2.IMREAD_GRAYSCALE),(nrows,ncols),interpolation=cv2.INTER_CUBIC))\n",
    "        y.append(reobj.search(image).groups()[1][0])\n",
    "    return np.array(X), to_categorical(y,num_classes=10)\n",
    "\n",
    "X_train, y_train = label_data(train_img)\n",
    "X_test, y_actual = label_data(test_img)\n"
   ]
  },
  {
   "cell_type": "code",
   "execution_count": 3,
   "metadata": {},
   "outputs": [],
   "source": [
    "X_train=np.reshape(X_train,(1600,64*64))\n",
    "X_test=np.reshape(X_test,(400,64*64))\n"
   ]
  },
  {
   "cell_type": "markdown",
   "metadata": {},
   "source": [
    "### Training the model"
   ]
  },
  {
   "cell_type": "code",
   "execution_count": 4,
   "metadata": {},
   "outputs": [],
   "source": [
    "knn=KNeighborsClassifier(n_neighbors=1)\n",
    "\n",
    "model=knn.fit(X_train, y_train)\n"
   ]
  },
  {
   "cell_type": "markdown",
   "metadata": {},
   "source": [
    "### Testing the model"
   ]
  },
  {
   "cell_type": "code",
   "execution_count": 5,
   "metadata": {},
   "outputs": [
    {
     "name": "stdout",
     "output_type": "stream",
     "text": [
      "1.0\n",
      "0.8225\n"
     ]
    }
   ],
   "source": [
    "\n",
    "y_predt=model.predict(X_train)\n",
    "print (metrics.accuracy_score(y_train, y_predt))\n",
    "\n",
    "y_pred=model.predict(X_test)\n",
    "print (metrics.accuracy_score(y_actual, y_pred))"
   ]
  },
  {
   "cell_type": "markdown",
   "metadata": {},
   "source": [
    "### Accuracy = 82.25%"
   ]
  },
  {
   "cell_type": "code",
   "execution_count": 10,
   "metadata": {},
   "outputs": [
    {
     "name": "stdout",
     "output_type": "stream",
     "text": [
      "Accuracy is  82.25 % for K-Value: 1\n",
      "Accuracy is  68.0 % for K-Value: 2\n",
      "Accuracy is  81.5 % for K-Value: 3\n",
      "Accuracy is  69.25 % for K-Value: 4\n",
      "Accuracy is  75.0 % for K-Value: 5\n",
      "Accuracy is  68.75 % for K-Value: 6\n",
      "Accuracy is  73.75 % for K-Value: 7\n",
      "Accuracy is  66.75 % for K-Value: 8\n",
      "Accuracy is  71.0 % for K-Value: 9\n",
      "Accuracy is  65.0 % for K-Value: 10\n",
      "Accuracy is  66.25 % for K-Value: 11\n",
      "Accuracy is  62.0 % for K-Value: 12\n",
      "Accuracy is  65.25 % for K-Value: 13\n",
      "Accuracy is  58.75 % for K-Value: 14\n",
      "Accuracy is  62.74999999999999 % for K-Value: 15\n"
     ]
    },
    {
     "data": {
      "image/png": "[encoded data removed]",
      "text/plain": [
       "<Figure size 432x288 with 1 Axes>"
      ]
     },
     "metadata": {
      "needs_background": "light"
     },
     "output_type": "display_data"
    }
   ],
   "source": [
    "k = []\n",
    "acc = []\n",
    "\n",
    "for K in range(15):\n",
    "    K_value = K+1\n",
    "    neigh = KNeighborsClassifier(n_neighbors = K_value, weights='uniform', algorithm='auto')\n",
    "    neigh.fit(X_train, y_train) \n",
    "    y_pred = neigh.predict(X_test)\n",
    "    ac = metrics.accuracy_score(y_actual,y_pred)\n",
    "    k.append(K_value)\n",
    "    acc.append(ac)\n",
    "    print(\"Accuracy is \", ac*100,\"% for K-Value:\",K_value)\n",
    "\n",
    "plt.plot(k,acc, color='red')\n",
    "plt.title('K-value vs Accuracy')\n",
    "plt.xlabel('K-value')\n",
    "plt.ylabel('Accuracy')\n",
    "plt.savefig('acc_k.png',dpi=100)\n",
    "\n"
   ]
  },
  {
   "cell_type": "code",
   "execution_count": null,
   "metadata": {},
   "outputs": [],
   "source": []
  }
 ],
 "metadata": {
  "kernelspec": {
   "display_name": "Python 3",
   "language": "python",
   "name": "python3"
  },
  "language_info": {
   "codemirror_mode": {
    "name": "ipython",
    "version": 3
   },
   "file_extension": ".py",
   "mimetype": "text/x-python",
   "name": "python",
   "nbconvert_exporter": "python",
   "pygments_lexer": "ipython3",
   "version": "3.6.8"
  }
 },
 "nbformat": 4,
 "nbformat_minor": 2
}
