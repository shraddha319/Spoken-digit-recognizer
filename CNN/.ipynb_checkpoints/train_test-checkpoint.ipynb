{
 "cells": [
  {
   "cell_type": "code",
   "execution_count": 0,
   "metadata": {
    "colab": {},
    "colab_type": "code",
    "id": "2kREUi-wNe5S"
   },
   "outputs": [],
   "source": [
    "!unzip spectrogram.zip"
   ]
  },
  {
   "cell_type": "code",
   "execution_count": 2,
   "metadata": {
    "colab": {
     "base_uri": "https://localhost:8080/",
     "height": 34
    },
    "colab_type": "code",
    "id": "qDGPtwPDQqal",
    "outputId": "15503946-c8e0-4417-a7d3-bf0aea641b4c"
   },
   "outputs": [
    {
     "name": "stderr",
     "output_type": "stream",
     "text": [
      "Using TensorFlow backend.\n"
     ]
    }
   ],
   "source": [
    "import os\n",
    "import numpy as np\n",
    "import matplotlib.pyplot as plt\n",
    "%matplotlib inline\n",
    "import random\n",
    "import cv2\n",
    "import re\n",
    "from keras.utils import to_categorical"
   ]
  },
  {
   "cell_type": "markdown",
   "metadata": {},
   "source": [
    "### Loading the dataset"
   ]
  },
  {
   "cell_type": "code",
   "execution_count": 0,
   "metadata": {
    "colab": {},
    "colab_type": "code",
    "id": "7Ng44EX9NoGR"
   },
   "outputs": [],
   "source": [
    "\n",
    "data_dir = '/content/spectrogram'\n",
    "\n",
    "all_img = os.listdir(data_dir)\n",
    "random.shuffle(all_img)\n",
    "\n",
    "\n",
    "train_img = [data_dir+'/'+img for img in all_img[:1600]]\n",
    "test_img = [data_dir+'/'+img for img in all_img[1600:]]\n"
   ]
  },
  {
   "cell_type": "code",
   "execution_count": 5,
   "metadata": {
    "colab": {
     "base_uri": "https://localhost:8080/",
     "height": 89
    },
    "colab_type": "code",
    "id": "ktlBZAyjN2OJ",
    "outputId": "96af0313-3222-43da-a62f-069f5bb353f1"
   },
   "outputs": [
    {
     "name": "stdout",
     "output_type": "stream",
     "text": [
      "1600 400\n",
      "['/content/spectrogram/2_jackson_13.png', '/content/spectrogram/6_yweweler_32.png', '/content/spectrogram/4_nicolas_7.png', '/content/spectrogram/8_theo_31.png', '/content/spectrogram/7_yweweler_30.png']\n",
      "['/content/spectrogram/2_yweweler_20.png', '/content/spectrogram/6_nicolas_39.png', '/content/spectrogram/0_theo_17.png', '/content/spectrogram/2_jackson_1.png', '/content/spectrogram/1_theo_5.png']\n"
     ]
    }
   ],
   "source": [
    "print(len(train_img), len(test_img))\n",
    "print(train_img[:5])\n",
    "print(test_img[:5])"
   ]
  },
  {
   "cell_type": "markdown",
   "metadata": {},
   "source": [
    "### Convert image into numpy array"
   ]
  },
  {
   "cell_type": "code",
   "execution_count": null,
   "metadata": {},
   "outputs": [],
   "source": [
    "\n",
    "nrows = 64\n",
    "ncols = 64\n",
    "channel = 3\n",
    "\n",
    "RE = r'(.*)([0-9]_.*)'\n",
    "reobj = re.compile(RE)\n",
    "\n",
    "def label_data(list_of_img):\n",
    "    \"\"\"\n",
    "    Resizing image into (nrows,ncols) and converts it to a numpy array(4D).\n",
    "    Returns the pixel values as a numpy array and the labels.\n",
    "    OneHotEncoder used to convert labels to categorical data.\n",
    "    \"\"\"\n",
    "    X = []\n",
    "    y = []\n",
    "    for image in list_of_img:\n",
    "        X.append(cv2.resize(cv2.imread(image, cv2.IMREAD_COLOR),(nrows,ncols),interpolation=cv2.INTER_CUBIC))\n",
    "        y.append(reobj.search(image).groups()[1][0])\n",
    "    return np.array(X), to_categorical(y,num_classes=10)\n",
    "\n",
    "X_train, y_train = label_data(train_img)\n",
    "print(X_train.shape,type(y_train))\n",
    "    \n",
    "  "
   ]
  },
  {
   "cell_type": "code",
   "execution_count": 7,
   "metadata": {
    "colab": {
     "base_uri": "https://localhost:8080/",
     "height": 34
    },
    "colab_type": "code",
    "id": "Jm2N9c06ThjS",
    "outputId": "5706f067-8d79-4d4b-fb92-df152a4d82bd"
   },
   "outputs": [
    {
     "name": "stdout",
     "output_type": "stream",
     "text": [
      "(1600, 64, 64, 3) <class 'numpy.ndarray'>\n"
     ]
    }
   ],
   "source": [
    "print(X_train.shape, type(y_train[0]))\n"
   ]
  },
  {
   "cell_type": "markdown",
   "metadata": {},
   "source": [
    "### CNN model"
   ]
  },
  {
   "cell_type": "code",
   "execution_count": 8,
   "metadata": {
    "colab": {
     "base_uri": "https://localhost:8080/",
     "height": 141
    },
    "colab_type": "code",
    "id": "ujspC2zHT0ab",
    "outputId": "48480359-1ddc-4289-ebad-6cf5d879941f"
   },
   "outputs": [
    {
     "name": "stdout",
     "output_type": "stream",
     "text": [
      "WARNING:tensorflow:From /usr/local/lib/python3.6/dist-packages/tensorflow/python/framework/op_def_library.py:263: colocate_with (from tensorflow.python.framework.ops) is deprecated and will be removed in a future version.\n",
      "Instructions for updating:\n",
      "Colocations handled automatically by placer.\n",
      "WARNING:tensorflow:From /usr/local/lib/python3.6/dist-packages/keras/backend/tensorflow_backend.py:3445: calling dropout (from tensorflow.python.ops.nn_ops) with keep_prob is deprecated and will be removed in a future version.\n",
      "Instructions for updating:\n",
      "Please use `rate` instead of `keep_prob`. Rate should be set to `rate = 1 - keep_prob`.\n"
     ]
    }
   ],
   "source": [
    "import keras\n",
    "from keras.models import Sequential\n",
    "from keras.layers import Dense, Dropout, Flatten, Conv2D, MaxPooling2D, BatchNormalization\n",
    "\n",
    "\n",
    "model = Sequential()\n",
    "\n",
    "#Convoultion layers\n",
    "model.add(Conv2D(32, kernel_size=(2, 2), activation='relu', input_shape=(64,64,3)))\n",
    "model.add(BatchNormalization())\n",
    "\n",
    "model.add(Conv2D(48, kernel_size=(2, 2), activation='relu'))\n",
    "model.add(BatchNormalization())\n",
    "\n",
    "model.add(Conv2D(120, kernel_size=(2, 2), activation='relu'))\n",
    "model.add(BatchNormalization())\n",
    "\n",
    "#Max pooling layer\n",
    "model.add(MaxPooling2D(pool_size=(2, 2)))\n",
    "model.add(Dropout(0.25))\n",
    "\n",
    "#Dense layers\n",
    "model.add(Flatten())\n",
    "\n",
    "model.add(Dense(128, activation='relu'))\n",
    "model.add(BatchNormalization())\n",
    "model.add(Dropout(0.25))\n",
    "model.add(Dense(64, activation='relu'))\n",
    "model.add(BatchNormalization())\n",
    "model.add(Dropout(0.4))\n",
    "model.add(Dense(10, activation='softmax'))"
   ]
  },
  {
   "cell_type": "code",
   "execution_count": 9,
   "metadata": {
    "colab": {
     "base_uri": "https://localhost:8080/",
     "height": 1148
    },
    "colab_type": "code",
    "id": "cBcTqDGDTsUK",
    "outputId": "05207165-36a9-48e1-d0ec-1c9da786a644"
   },
   "outputs": [
    {
     "name": "stdout",
     "output_type": "stream",
     "text": [
      "WARNING:tensorflow:From /usr/local/lib/python3.6/dist-packages/tensorflow/python/ops/math_ops.py:3066: to_int32 (from tensorflow.python.ops.math_ops) is deprecated and will be removed in a future version.\n",
      "Instructions for updating:\n",
      "Use tf.cast instead.\n",
      "Train on 1440 samples, validate on 160 samples\n",
      "Epoch 1/30\n",
      "1440/1440 [==============================] - 120s 83ms/step - loss: 1.4131 - acc: 0.5333 - val_loss: 0.4366 - val_acc: 0.8500\n",
      "Epoch 2/30\n",
      "1440/1440 [==============================] - 117s 81ms/step - loss: 0.5830 - acc: 0.8257 - val_loss: 0.3001 - val_acc: 0.9125\n",
      "Epoch 3/30\n",
      "1440/1440 [==============================] - 117s 81ms/step - loss: 0.3642 - acc: 0.9118 - val_loss: 0.2656 - val_acc: 0.9125\n",
      "Epoch 4/30\n",
      "1440/1440 [==============================] - 116s 81ms/step - loss: 0.2199 - acc: 0.9514 - val_loss: 0.2345 - val_acc: 0.9500\n",
      "Epoch 5/30\n",
      "1440/1440 [==============================] - 116s 81ms/step - loss: 0.1403 - acc: 0.9764 - val_loss: 0.1879 - val_acc: 0.9563\n",
      "Epoch 6/30\n",
      "1440/1440 [==============================] - 118s 82ms/step - loss: 0.1001 - acc: 0.9854 - val_loss: 0.1742 - val_acc: 0.9313\n",
      "Epoch 7/30\n",
      "1440/1440 [==============================] - 117s 81ms/step - loss: 0.0792 - acc: 0.9938 - val_loss: 0.1357 - val_acc: 0.9812\n",
      "Epoch 8/30\n",
      "1440/1440 [==============================] - 117s 81ms/step - loss: 0.0697 - acc: 0.9924 - val_loss: 0.1261 - val_acc: 0.9625\n",
      "Epoch 9/30\n",
      "1440/1440 [==============================] - 117s 81ms/step - loss: 0.0513 - acc: 0.9958 - val_loss: 0.1151 - val_acc: 0.9812\n",
      "Epoch 10/30\n",
      "1440/1440 [==============================] - 117s 81ms/step - loss: 0.0439 - acc: 0.9951 - val_loss: 0.1014 - val_acc: 0.9875\n",
      "Epoch 11/30\n",
      "1440/1440 [==============================] - 117s 81ms/step - loss: 0.0385 - acc: 0.9979 - val_loss: 0.1010 - val_acc: 0.9750\n",
      "Epoch 12/30\n",
      "1440/1440 [==============================] - 116s 80ms/step - loss: 0.0316 - acc: 0.9965 - val_loss: 0.1115 - val_acc: 0.9688\n",
      "Epoch 13/30\n",
      "1440/1440 [==============================] - 116s 80ms/step - loss: 0.0283 - acc: 0.9972 - val_loss: 0.0782 - val_acc: 0.9812\n",
      "Epoch 14/30\n",
      "1440/1440 [==============================] - 117s 81ms/step - loss: 0.0229 - acc: 0.9993 - val_loss: 0.0905 - val_acc: 0.9750\n",
      "Epoch 15/30\n",
      "1440/1440 [==============================] - 115s 80ms/step - loss: 0.0185 - acc: 1.0000 - val_loss: 0.0856 - val_acc: 0.9688\n",
      "Epoch 16/30\n",
      "1440/1440 [==============================] - 115s 80ms/step - loss: 0.0224 - acc: 0.9993 - val_loss: 0.0768 - val_acc: 0.9812\n",
      "Epoch 17/30\n",
      "1440/1440 [==============================] - 117s 81ms/step - loss: 0.0162 - acc: 0.9993 - val_loss: 0.1038 - val_acc: 0.9688\n",
      "Epoch 18/30\n",
      "1440/1440 [==============================] - 115s 80ms/step - loss: 0.0129 - acc: 1.0000 - val_loss: 0.0795 - val_acc: 0.9875\n",
      "Epoch 19/30\n",
      "1440/1440 [==============================] - 116s 81ms/step - loss: 0.0171 - acc: 0.9986 - val_loss: 0.0699 - val_acc: 0.9688\n",
      "Epoch 20/30\n",
      "1440/1440 [==============================] - 116s 80ms/step - loss: 0.0124 - acc: 1.0000 - val_loss: 0.0701 - val_acc: 0.9750\n",
      "Epoch 21/30\n",
      "1440/1440 [==============================] - 116s 81ms/step - loss: 0.0114 - acc: 1.0000 - val_loss: 0.0647 - val_acc: 0.9812\n",
      "Epoch 22/30\n",
      "1440/1440 [==============================] - 118s 82ms/step - loss: 0.0099 - acc: 0.9986 - val_loss: 0.0503 - val_acc: 0.9875\n",
      "Epoch 23/30\n",
      "1440/1440 [==============================] - 116s 81ms/step - loss: 0.0102 - acc: 0.9986 - val_loss: 0.0767 - val_acc: 0.9750\n",
      "Epoch 24/30\n",
      "1440/1440 [==============================] - 116s 80ms/step - loss: 0.0117 - acc: 0.9993 - val_loss: 0.0768 - val_acc: 0.9625\n",
      "Epoch 25/30\n",
      "1440/1440 [==============================] - 116s 81ms/step - loss: 0.0089 - acc: 1.0000 - val_loss: 0.0703 - val_acc: 0.9750\n",
      "Epoch 26/30\n",
      "1440/1440 [==============================] - 116s 80ms/step - loss: 0.0103 - acc: 0.9993 - val_loss: 0.0462 - val_acc: 0.9938\n",
      "Epoch 27/30\n",
      "1440/1440 [==============================] - 117s 81ms/step - loss: 0.0081 - acc: 1.0000 - val_loss: 0.0490 - val_acc: 0.9812\n",
      "Epoch 28/30\n",
      "1440/1440 [==============================] - 116s 81ms/step - loss: 0.0061 - acc: 1.0000 - val_loss: 0.0502 - val_acc: 0.9875\n",
      "Epoch 29/30\n",
      "1440/1440 [==============================] - 116s 81ms/step - loss: 0.0062 - acc: 1.0000 - val_loss: 0.0602 - val_acc: 0.9875\n",
      "Epoch 30/30\n",
      "1440/1440 [==============================] - 116s 81ms/step - loss: 0.0060 - acc: 1.0000 - val_loss: 0.0648 - val_acc: 0.9812\n"
     ]
    }
   ],
   "source": [
    "model.compile(loss='categorical_crossentropy', optimizer='adam', metrics=['accuracy'])\n",
    "history = model.fit(X_train, y_train, batch_size=64, epochs=30, verbose=1, validation_split=0.1)"
   ]
  },
  {
   "cell_type": "markdown",
   "metadata": {},
   "source": [
    "### Testing the model"
   ]
  },
  {
   "cell_type": "code",
   "execution_count": 10,
   "metadata": {
    "colab": {
     "base_uri": "https://localhost:8080/",
     "height": 69
    },
    "colab_type": "code",
    "id": "nXgLUoQ8bJs5",
    "outputId": "4bf52edf-caad-4ff2-f12e-a3bd33defb89"
   },
   "outputs": [
    {
     "name": "stdout",
     "output_type": "stream",
     "text": [
      "400/400 [==============================] - 8s 19ms/step\n",
      "0.12247643603011965 0.975\n",
      "['loss', 'acc']\n"
     ]
    }
   ],
   "source": [
    "X_test, y_test = label_data(test_img)\n",
    "pred = model.evaluate(X_test, y_test)\n",
    "print(pred[0], pred[1])\n",
    "print(model.metrics_names)\n",
    "pred = model.predict(X_test)\n",
    "pred = np.argmax(pred, axis=1)\n",
    "\n"
   ]
  },
  {
   "cell_type": "markdown",
   "metadata": {},
   "source": [
    "### Evaluating the model"
   ]
  },
  {
   "cell_type": "code",
   "execution_count": 11,
   "metadata": {
    "colab": {
     "base_uri": "https://localhost:8080/",
     "height": 1250
    },
    "colab_type": "code",
    "id": "l8MRsBX4dHCT",
    "outputId": "87ca90a8-8092-493c-aec9-31a1b2889da9"
   },
   "outputs": [
    {
     "name": "stdout",
     "output_type": "stream",
     "text": [
      "_________________________________________________________________\n",
      "Layer (type)                 Output Shape              Param #   \n",
      "=================================================================\n",
      "conv2d_1 (Conv2D)            (None, 63, 63, 32)        416       \n",
      "_________________________________________________________________\n",
      "batch_normalization_1 (Batch (None, 63, 63, 32)        128       \n",
      "_________________________________________________________________\n",
      "conv2d_2 (Conv2D)            (None, 62, 62, 48)        6192      \n",
      "_________________________________________________________________\n",
      "batch_normalization_2 (Batch (None, 62, 62, 48)        192       \n",
      "_________________________________________________________________\n",
      "conv2d_3 (Conv2D)            (None, 61, 61, 120)       23160     \n",
      "_________________________________________________________________\n",
      "batch_normalization_3 (Batch (None, 61, 61, 120)       480       \n",
      "_________________________________________________________________\n",
      "max_pooling2d_1 (MaxPooling2 (None, 30, 30, 120)       0         \n",
      "_________________________________________________________________\n",
      "dropout_1 (Dropout)          (None, 30, 30, 120)       0         \n",
      "_________________________________________________________________\n",
      "flatten_1 (Flatten)          (None, 108000)            0         \n",
      "_________________________________________________________________\n",
      "dense_1 (Dense)              (None, 128)               13824128  \n",
      "_________________________________________________________________\n",
      "batch_normalization_4 (Batch (None, 128)               512       \n",
      "_________________________________________________________________\n",
      "dropout_2 (Dropout)          (None, 128)               0         \n",
      "_________________________________________________________________\n",
      "dense_2 (Dense)              (None, 64)                8256      \n",
      "_________________________________________________________________\n",
      "batch_normalization_5 (Batch (None, 64)                256       \n",
      "_________________________________________________________________\n",
      "dropout_3 (Dropout)          (None, 64)                0         \n",
      "_________________________________________________________________\n",
      "dense_3 (Dense)              (None, 10)                650       \n",
      "=================================================================\n",
      "Total params: 13,864,370\n",
      "Trainable params: 13,863,586\n",
      "Non-trainable params: 784\n",
      "_________________________________________________________________\n"
     ]
    },
    {
     "data": {
      "image/png": "[encoded data removed]",
      "text/plain": [
       "<Figure size 432x288 with 1 Axes>"
      ]
     },
     "metadata": {
      "tags": []
     },
     "output_type": "display_data"
    },
    {
     "data": {
      "image/png": "[encoded data removed]",
      "text/plain": [
       "<Figure size 432x288 with 1 Axes>"
      ]
     },
     "metadata": {
      "tags": []
     },
     "output_type": "display_data"
    }
   ],
   "source": [
    "model.save('model_trained.h5')\n",
    "\n",
    "from keras.utils.vis_utils import plot_model\n",
    "\n",
    "plot_model(model, to_file='model_summary.png', show_shapes=True, show_layer_names=True)\n",
    "\n",
    "model.summary()\n",
    "\n",
    "#Training and validation loss\n",
    "\n",
    "loss = history.history['loss']\n",
    "val_loss = history.history['val_loss']\n",
    "epoch = range(1,len(loss)+1)\n",
    "plt.plot(epoch,loss, color='red', label='Training loss')\n",
    "plt.plot(epoch, val_loss, color='green', label='Validation loss')\n",
    "plt.title('Training and validation loss')\n",
    "plt.xlabel('Epochs')\n",
    "plt.ylabel('Loss')\n",
    "plt.legend()\n",
    "plt.savefig('loss_plot.png',dpi=100)\n",
    "plt.show()\n",
    "\n",
    "\n",
    "#Training and validation accuracy\n",
    "\n",
    "acc = history.history['acc']\n",
    "val_acc = history.history['val_acc']\n",
    "epoch = range(1,len(acc)+1)\n",
    "plt.plot(epoch, acc, color='red', label='Training accuracy')\n",
    "plt.plot(epoch, val_acc, color='green', label='Validation accuracy')\n",
    "plt.title('Training and validation accuracy')\n",
    "plt.xlabel('Epochs')\n",
    "plt.ylabel('Accuracy')\n",
    "plt.legend()\n",
    "plt.savefig('acc_plot.png',dpi=100)\n",
    "plt.show()\n",
    "\n"
   ]
  },
  {
   "cell_type": "markdown",
   "metadata": {},
   "source": [
    "### Performance metrics"
   ]
  },
  {
   "cell_type": "code",
   "execution_count": 12,
   "metadata": {
    "colab": {
     "base_uri": "https://localhost:8080/",
     "height": 330
    },
    "colab_type": "code",
    "id": "6mdP-cuOzUgF",
    "outputId": "b6bd2f69-9725-4160-a02a-54d8dc07b165"
   },
   "outputs": [
    {
     "name": "stdout",
     "output_type": "stream",
     "text": [
      "              precision    recall  f1-score   support\n",
      "\n",
      "           0       0.98      1.00      0.99        45\n",
      "           1       0.97      1.00      0.99        39\n",
      "           2       1.00      1.00      1.00        48\n",
      "           3       0.91      0.94      0.92        32\n",
      "           4       1.00      1.00      1.00        23\n",
      "           5       1.00      0.98      0.99        46\n",
      "           6       0.98      0.91      0.94        46\n",
      "           7       1.00      0.95      0.97        38\n",
      "           8       0.94      0.98      0.96        46\n",
      "           9       0.97      1.00      0.99        37\n",
      "\n",
      "   micro avg       0.97      0.97      0.97       400\n",
      "   macro avg       0.98      0.98      0.97       400\n",
      "weighted avg       0.98      0.97      0.97       400\n",
      " samples avg       0.97      0.97      0.97       400\n",
      "\n"
     ]
    }
   ],
   "source": [
    "from sklearn.metrics import classification_report\n",
    "\n",
    "predictions = model.predict_classes(X_test)\n",
    "print(classification_report(y_test, to_categorical(predictions)))\n"
   ]
  }
 ],
 "metadata": {
  "accelerator": "TPU",
  "colab": {
   "collapsed_sections": [],
   "name": "train-test.ipynb",
   "provenance": [],
   "version": "0.3.2"
  },
  "kernelspec": {
   "display_name": "Python 3",
   "language": "python",
   "name": "python3"
  },
  "language_info": {
   "codemirror_mode": {
    "name": "ipython",
    "version": 3
   },
   "file_extension": ".py",
   "mimetype": "text/x-python",
   "name": "python",
   "nbconvert_exporter": "python",
   "pygments_lexer": "ipython3",
   "version": "3.6.8"
  }
 },
 "nbformat": 4,
 "nbformat_minor": 1
}
